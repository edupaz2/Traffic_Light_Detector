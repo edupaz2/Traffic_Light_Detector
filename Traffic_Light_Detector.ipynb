{
 "cells": [
  {
   "cell_type": "markdown",
   "metadata": {},
   "source": [
    "# Self-Driving Car Engineer Nanodegree\n",
    "\n",
    "\n",
    "## Project: Build a Traffic Light Detector for CarND-Capstone project\n",
    "\n",
    "In this notebook, we are building a Traffic Light Detector for the Capstone project for the Udacity Self Driving Cars nanodegree. \n",
    "\n",
    "In addition to implementing code, there is a [write up file](https://github.com/edupaz2/Traffic-Light-Classifier-Project/blob/master/writeup.md)."
   ]
  },
  {
   "cell_type": "markdown",
   "metadata": {},
   "source": [
    "## Step 0: Prepare the Data"
   ]
  },
  {
   "cell_type": "code",
   "execution_count": 33,
   "metadata": {},
   "outputs": [
    {
     "name": "stdout",
     "output_type": "stream",
     "text": [
      "Done\n"
     ]
    }
   ],
   "source": [
    "# Transform JPG to PNG\n",
    "\n",
    "def jpg2png(jpgs_list):\n",
    "    for j in jpgs_list:\n",
    "        # Convert to PNG\n",
    "        img = cv2.imread(j)\n",
    "        print(j[:-3] + 'png')\n",
    "        cv2.imwrite(j[:-3] + 'png', img)\n",
    "        # Delete the file\n",
    "        os.remove(j)\n",
    "\n",
    "transformJPG2PNG = False\n",
    "if transformJPG2PNG:\n",
    "    l = glob.glob('./sim-data/**/*.jpg', recursive=True)\n",
    "    jpg2png(l)\n",
    "\n",
    "\n",
    "print(\"Done\")\n"
   ]
  },
  {
   "cell_type": "code",
   "execution_count": 34,
   "metadata": {},
   "outputs": [
    {
     "name": "stdout",
     "output_type": "stream",
     "text": [
      "Done\n"
     ]
    }
   ],
   "source": [
    "# Rename files Consecutively\n",
    "\n",
    "def renameConsecutively(path):\n",
    "    counter = 1\n",
    "    filelist = os.listdir(path)\n",
    "    zerofill = len(str(abs(len(filelist))))\n",
    "    for f in filelist:\n",
    "        oldname = '{0}/{1}'.format(path, f)\n",
    "        newname = '{0}/{1}.png'.format(path, str(counter).zfill(zerofill))\n",
    "        os.rename(oldname, newname)\n",
    "        counter += 1\n",
    "\n",
    "rename = False\n",
    "if rename:\n",
    "    renameConsecutively('sim-data/Green')\n",
    "    renameConsecutively('sim-data/None')\n",
    "    renameConsecutively('sim-data/Red')\n",
    "    renameConsecutively('sim-data/Yellow')\n",
    "\n",
    "print('Done')"
   ]
  }
 ],
 "metadata": {
  "anaconda-cloud": {},
  "kernelspec": {
   "display_name": "Python 3",
   "language": "python",
   "name": "python3"
  },
  "language_info": {
   "codemirror_mode": {
    "name": "ipython",
    "version": 3
   },
   "file_extension": ".py",
   "mimetype": "text/x-python",
   "name": "python",
   "nbconvert_exporter": "python",
   "pygments_lexer": "ipython3",
   "version": "3.5.2"
  },
  "widgets": {
   "state": {},
   "version": "1.1.2"
  }
 },
 "nbformat": 4,
 "nbformat_minor": 1
}
