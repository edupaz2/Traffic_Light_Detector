{
 "cells": [
  {
   "cell_type": "markdown",
   "metadata": {},
   "source": [
    "# Self-Driving Car Engineer Nanodegree\n",
    "\n",
    "\n",
    "## Project: Build a Traffic Light Detector for CarND-Capstone project\n",
    "\n",
    "In this notebook, we are building a Traffic Light Detector for the Capstone project for the Udacity Self Driving Cars nanodegree. \n",
    "\n",
    "In addition to implementing code, there is a [write up file](https://github.com/edupaz2/Traffic-Light-Classifier-Project/blob/master/writeup.md)."
   ]
  },
  {
   "cell_type": "markdown",
   "metadata": {},
   "source": [
    "## Step 0: Prepare the Data"
   ]
  },
  {
   "cell_type": "code",
   "execution_count": null,
   "metadata": {},
   "outputs": [],
   "source": [
    "# Transform JPG to PNG\n",
    "\n",
    "def jpg2png(jpgs_list):\n",
    "    for j in jpgs_list:\n",
    "        # Convert to PNG\n",
    "        img = cv2.imread(j)\n",
    "        print(j[:-3] + 'png')\n",
    "        cv2.imwrite(j[:-3] + 'png', img)\n",
    "        # Delete the file\n",
    "        os.remove(j)\n",
    "\n",
    "transformJPG2PNG = False\n",
    "if transformJPG2PNG:\n",
    "    l = glob.glob('./sim-data/**/*.jpg', recursive=True)\n",
    "    jpg2png(l)\n",
    "\n",
    "\n",
    "print(\"Done\")\n"
   ]
  },
  {
   "cell_type": "code",
   "execution_count": null,
   "metadata": {},
   "outputs": [],
   "source": [
    "# Rename files Consecutively\n",
    "\n",
    "def renameConsecutively(path):\n",
    "    counter = 1\n",
    "    filelist = os.listdir(path)\n",
    "    zerofill = len(str(abs(len(filelist))))\n",
    "    for f in filelist:\n",
    "        oldname = '{0}/{1}'.format(path, f)\n",
    "        newname = '{0}/{1}.png'.format(path, str(counter).zfill(zerofill))\n",
    "        os.rename(oldname, newname)\n",
    "        counter += 1\n",
    "\n",
    "rename = False\n",
    "if rename:\n",
    "    renameConsecutively('sim-data/green')\n",
    "    renameConsecutively('sim-data/none')\n",
    "    renameConsecutively('sim-data/red')\n",
    "    renameConsecutively('sim-data/yellow')\n",
    "\n",
    "print('Done')"
   ]
  },
  {
   "cell_type": "markdown",
   "metadata": {},
   "source": [
    "## Create the pickle data\n",
    "At this point we must have:\n",
    "- Directory 'sim-data' containing the pictures in PNG format.\n",
    "- Inside 'sim-data', 4 folders: Green, None, Red, Yellow."
   ]
  },
  {
   "cell_type": "code",
   "execution_count": 20,
   "metadata": {},
   "outputs": [
    {
     "name": "stdout",
     "output_type": "stream",
     "text": [
      "Saving data to pickle file...\n",
      "Done\n"
     ]
    }
   ],
   "source": [
    "from PIL import Image\n",
    "import numpy as np\n",
    "import os\n",
    "import glob\n",
    "import pickle\n",
    "\n",
    "features = []\n",
    "labels = []\n",
    "size = 128, 128\n",
    "\n",
    "images  = glob.glob('./sim-data/**/*.png', recursive=True)\n",
    "\n",
    "for image_file in images:\n",
    "    image = Image.open(image_file)\n",
    "    image.thumbnail(size, Image.ANTIALIAS)\n",
    "    #image.load()\n",
    "    # Load image data as 1 dimensional array\n",
    "    # We're using float32 to save on memory space\n",
    "    feature = np.array(image, dtype=np.float32).flatten()\n",
    "    label = os.path.split(os.path.split(image_file)[0])[1]\n",
    "\n",
    "    features.append(feature)\n",
    "    labels.append(label)\n",
    "\n",
    "# Save the data for easy access\n",
    "pickle_file = 'sim-data/sim-data.pickle'\n",
    "print('Saving data to pickle file...')\n",
    "try:\n",
    "    with open(pickle_file, 'wb+') as pfile:\n",
    "        pickle.dump(\n",
    "            {\n",
    "                'features': features,\n",
    "                'labels': labels,\n",
    "            },\n",
    "            pfile, pickle.HIGHEST_PROTOCOL)\n",
    "except Exception as e:\n",
    "    print('Unable to save data to', pickle_file, ':', e)\n",
    "    raise\n",
    "\n",
    "# Free up memory\n",
    "del features\n",
    "del labels\n",
    "print('Done')"
   ]
  },
  {
   "cell_type": "markdown",
   "metadata": {},
   "source": [
    "## Load the data\n"
   ]
  },
  {
   "cell_type": "code",
   "execution_count": 22,
   "metadata": {},
   "outputs": [
    {
     "name": "stdout",
     "output_type": "stream",
     "text": [
      "Features: 1121, Labels: 1121, Image_Shape: (36864,), Classes: 4\n"
     ]
    }
   ],
   "source": [
    "# Reload the data\n",
    "pickle_file = 'sim-data/sim-data.pickle'\n",
    "with open(pickle_file, 'rb') as f:\n",
    "    pickle_data = pickle.load(f)\n",
    "    features = pickle_data['features']\n",
    "    labels = pickle_data['labels']\n",
    "    del pickle_data  # Free up memory\n",
    "\n",
    "# Number of features\n",
    "n_features = len(features)\n",
    "\n",
    "# Number of labels\n",
    "n_labels = len(labels)\n",
    "\n",
    "# What's the shape of an traffic sign image?\n",
    "image_shape = features[0].shape\n",
    "\n",
    "# How many unique classes/labels there are in the dataset.\n",
    "n_classes = len(np.unique(labels))\n",
    "\n",
    "print('Features: {0}, Labels: {1}, Image_Shape: {2}, Classes: {3}'.format(n_features, n_labels, image_shape, n_classes))"
   ]
  }
 ],
 "metadata": {
  "anaconda-cloud": {},
  "kernelspec": {
   "display_name": "Python 3",
   "language": "python",
   "name": "python3"
  },
  "language_info": {
   "codemirror_mode": {
    "name": "ipython",
    "version": 3
   },
   "file_extension": ".py",
   "mimetype": "text/x-python",
   "name": "python",
   "nbconvert_exporter": "python",
   "pygments_lexer": "ipython3",
   "version": "3.5.2"
  },
  "widgets": {
   "state": {},
   "version": "1.1.2"
  }
 },
 "nbformat": 4,
 "nbformat_minor": 1
}
